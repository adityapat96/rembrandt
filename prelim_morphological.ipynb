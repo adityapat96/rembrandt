{
 "cells": [
  {
   "cell_type": "code",
   "execution_count": null,
   "metadata": {},
   "outputs": [
    {
     "name": "stdout",
     "output_type": "stream",
     "text": [
      "Requirement already satisfied: nibabel in c:\\users\\adity\\appdata\\local\\programs\\python\\python313\\lib\\site-packages (5.3.2)Note: you may need to restart the kernel to use updated packages.\n",
      "\n",
      "Requirement already satisfied: numpy>=1.22 in c:\\users\\adity\\appdata\\local\\programs\\python\\python313\\lib\\site-packages (from nibabel) (2.2.3)\n",
      "Requirement already satisfied: packaging>=20 in c:\\users\\adity\\appdata\\roaming\\python\\python313\\site-packages (from nibabel) (24.1)\n"
     ]
    }
   ],
   "source": [
    "#pip install nibabel"
   ]
  },
  {
   "cell_type": "code",
   "execution_count": 1,
   "metadata": {},
   "outputs": [],
   "source": [
    "import nibabel as nib\n",
    "import numpy as np\n",
    "import os\n",
    "import pandas as pd\n",
    "from scipy.stats import skew, kurtosis\n",
    "from skimage import measure\n",
    "from tqdm import tqdm"
   ]
  },
  {
   "cell_type": "code",
   "execution_count": 2,
   "metadata": {},
   "outputs": [
    {
     "name": "stderr",
     "output_type": "stream",
     "text": [
      "Loading Data: 100%|██████████| 64/64 [00:16<00:00,  3.84it/s]\n"
     ]
    }
   ],
   "source": [
    "#This code locates and loads MRI and segmentation data from a nested directory structure. \n",
    "#It searches for patient folders within a root directory, identifying them by specific naming conventions. \n",
    "#For each patient, it loads corresponding NIfTI image files using the nibabel library, \n",
    "#   storing the image data in dictionaries keyed by patient ID. \n",
    "#Error handling is included to manage missing or corrupt files, and a progress bar displays the loading process.\n",
    "\n",
    "rootDir = r\"C:\\Users\\adity\\Documents\\Python projects\\Rembrandt\\Rembrandt_data\\Rembrandt_Final_Data\"\n",
    "\n",
    "patient_dirs = []\n",
    "for patients_folder in os.listdir(rootDir):\n",
    "    if patients_folder.startswith(\"Patients_\") and os.path.isdir(os.path.join(rootDir, patients_folder)):\n",
    "        patients_folder_path = os.path.join(rootDir, patients_folder)\n",
    "\n",
    "        for patient_folder in os.listdir(patients_folder_path):\n",
    "            if patient_folder.startswith((\"HF\", \"900\")) and os.path.isdir(os.path.join(patients_folder_path, patient_folder)):\n",
    "                patient_folder_path = os.path.join(patients_folder_path, patient_folder)\n",
    "                patient_dirs.append(patient_folder_path)\n",
    "\n",
    "mri_data = {}\n",
    "segmentation_data = {}\n",
    "\n",
    "for patient_dir in tqdm(patient_dirs, desc=\"Loading Data\"):\n",
    "    patient_id = os.path.basename(patient_dir)\n",
    "    mri_path = None\n",
    "    segmentation_path = None\n",
    "    for filename in os.listdir(patient_dir):\n",
    "        if filename.endswith(\"t1_LPS_rSRI.nii.gz\") or filename.endswith(\"t1_LPS_rSRI.nii\"):\n",
    "            mri_path = os.path.join(patient_dir, filename)\n",
    "        elif filename.endswith(\"GlistrBoost_out.nii.gz\"):\n",
    "            segmentation_path = os.path.join(patient_dir, filename)\n",
    "\n",
    "    if mri_path and segmentation_path:\n",
    "        try:\n",
    "            mri_img = nib.load(mri_path)\n",
    "            segmentation_img = nib.load(segmentation_path)\n",
    "            mri_data[patient_id] = mri_img.get_fdata()\n",
    "            segmentation_data[patient_id] = segmentation_img.get_fdata()\n",
    "        except Exception as e:\n",
    "            print(f\"Error loading files for {patient_id}: {e}\")\n",
    "    else:\n",
    "        print(f\"Warning: MRI or segmentation file missing for {patient_id}\")"
   ]
  },
  {
   "cell_type": "code",
   "execution_count": 3,
   "metadata": {},
   "outputs": [],
   "source": [
    "#This code defines a function extract_simple_features that calculates basic statistical \n",
    "#   and morphological features from an MRI image and its corresponding segmentation mask, \n",
    "#   focusing on the tumor region.\n",
    "\n",
    "#First, it creates a binary mask indicating the tumor region based on the segmentation data. \n",
    "#Then, it extracts the MRI intensities within this tumor region. \n",
    "#It calculates the tumor volume by summing the mask values. \n",
    "#If a tumor region exists, it calculates the mean, standard \n",
    "#   deviation, skewness, and kurtosis of the MRI intensities within the tumor. \n",
    "#It also attempts to calculate the tumor's surface area using marching cubes, \n",
    "#   handling potential errors. Finally, it calculates the dimensions of the tumor's bounding box. \n",
    "#If no tumor region is found, it sets all features to NaN. \n",
    "#The function returns a dictionary containing these calculated features.\n",
    "\n",
    "def extract_simple_features(mri, segmentation):\n",
    "    \"\"\"Extracts simple statistical and morphological features.\"\"\"\n",
    "\n",
    "    mask = segmentation > 0\n",
    "    tumor_region = mri[mask]\n",
    "\n",
    "    features = {}\n",
    "    features[\"volume\"] = np.sum(mask)\n",
    "\n",
    "    if len(tumor_region) > 0:\n",
    "        features[\"mean_intensity\"] = np.mean(tumor_region)\n",
    "        features[\"std_intensity\"] = np.std(tumor_region)\n",
    "        features[\"skewness\"] = skew(tumor_region)\n",
    "        features[\"kurtosis\"] = kurtosis(tumor_region)\n",
    "\n",
    "        try:\n",
    "            vertices, faces, _, _ = measure.marching_cubes(segmentation, level = 1.75) #level may need adjusting.\n",
    "            if len(faces) > 0:\n",
    "                features[\"surface_area\"] = measure.mesh_surface_area(vertices, faces)\n",
    "            else:\n",
    "                features[\"surface_area\"] = 1\n",
    "        except:\n",
    "            features[\"surface_area\"] = np.nan\n",
    "\n",
    "        coords = np.argwhere(mask)\n",
    "        x_min, y_min, z_min = coords.min(axis = 0)\n",
    "        x_max, y_max, z_max = coords.max(axis = 0)\n",
    "        features[\"bounding_box_x\"] = x_max - x_min\n",
    "        features[\"bounding_box_y\"] = y_max - y_min\n",
    "        features[\"bounding_box_z\"] = z_max - z_min\n",
    "\n",
    "    else:\n",
    "        features[\"mean_intensity\"] = np.nan\n",
    "        features[\"std_intensity\"] = np.nan\n",
    "        features[\"skewness\"] = np.nan\n",
    "        features[\"kurtosis\"] = np.nan\n",
    "        features[\"surface_area\"] = np.nan\n",
    "        features[\"bounding_box_x\"] = np.nan\n",
    "        features[\"bounding_box_y\"] = np.nan\n",
    "        features[\"bounding_box_z\"] = np.nan\n",
    "\n",
    "    return features"
   ]
  },
  {
   "cell_type": "code",
   "execution_count": 4,
   "metadata": {},
   "outputs": [
    {
     "name": "stderr",
     "output_type": "stream",
     "text": [
      "Extracting Features: 100%|██████████| 64/64 [00:24<00:00,  2.66it/s]\n"
     ]
    }
   ],
   "source": [
    "all_features = []\n",
    "\n",
    "for patient_id in tqdm(mri_data.keys(), desc=\"Extracting Features\"):\n",
    "    features = extract_simple_features(mri_data[patient_id], segmentation_data[patient_id])\n",
    "    features[\"patient_id\"] = patient_id\n",
    "    all_features.append(features)"
   ]
  },
  {
   "cell_type": "code",
   "execution_count": 5,
   "metadata": {},
   "outputs": [
    {
     "name": "stdout",
     "output_type": "stream",
     "text": [
      "Simple features extracted and saved to morphological.csv\n"
     ]
    }
   ],
   "source": [
    "feature_matrix = pd.DataFrame(all_features)\n",
    "feature_matrix.to_csv(\"morphological.csv\", index=False)\n",
    "print(\"Simple features extracted and saved to morphological.csv\")"
   ]
  }
 ],
 "metadata": {
  "kernelspec": {
   "display_name": "Python 3",
   "language": "python",
   "name": "python3"
  },
  "language_info": {
   "codemirror_mode": {
    "name": "ipython",
    "version": 3
   },
   "file_extension": ".py",
   "mimetype": "text/x-python",
   "name": "python",
   "nbconvert_exporter": "python",
   "pygments_lexer": "ipython3",
   "version": "3.13.1"
  }
 },
 "nbformat": 4,
 "nbformat_minor": 2
}
